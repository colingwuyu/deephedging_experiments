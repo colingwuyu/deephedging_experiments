{
 "metadata": {
  "language_info": {
   "codemirror_mode": {
    "name": "ipython",
    "version": 3
   },
   "file_extension": ".py",
   "mimetype": "text/x-python",
   "name": "python",
   "nbconvert_exporter": "python",
   "pygments_lexer": "ipython3",
   "version": "3.7.11"
  },
  "orig_nbformat": 2,
  "kernelspec": {
   "name": "python3",
   "display_name": "Python 3.7.11 64-bit"
  },
  "interpreter": {
   "hash": "31f2aee4e71d21fbe5cf8b01ff0e069b9275f58929596ceb00d14d90e3e16cd6"
  }
 },
 "nbformat": 4,
 "nbformat_minor": 2,
 "cells": [
  {
   "cell_type": "code",
   "execution_count": 3,
   "source": [
    "import numpy as np\n",
    "import pandas as pd"
   ],
   "outputs": [],
   "metadata": {}
  },
  {
   "cell_type": "code",
   "execution_count": 5,
   "source": [
    "logs_file = {\n",
    "    \"bsm\": 'bsagent/bsm/logs/Greek-Delta/logs.csv',\n",
    "    \"bsm-mi-sa\": 'bsagent/bsm_mi/logs/Greek-Delta-MI/logs.csv',\n",
    "    \"var-rl1-sa\": 'var/sa/logs/RL1/logs.csv',\n",
    "    \"var-ma1\": 'var/ma1/logs/RL1/logs.csv',\n",
    "    \"var-ma2\": 'var/ma2/logs/RL2/logs.csv',\n",
    "    \"var-ma3\": 'var/ma3/logs/RL2/logs.csv',\n",
    "    \"mean-var-rl1-sa\": 'mean_var/sa/logs/RL1/logs.csv',\n",
    "    \"mean-var-ma1\": 'mean_var/ma1/logs/RL1/logs.csv',\n",
    "    \"mean-var-ma2\": 'mean_var/ma2/logs/RL2/logs.csv',\n",
    "    \"mean-var-ma3\": 'mean_var/ma3/logs/RL2/logs.csv',\n",
    "}\n",
    "\n",
    "perfs = {}\n",
    "for n, f in logs_file.items():\n",
    "  perfs[n] = pd.read_csv(f)"
   ],
   "outputs": [],
   "metadata": {}
  },
  {
   "cell_type": "code",
   "execution_count": null,
   "source": [],
   "outputs": [],
   "metadata": {}
  }
 ]
}