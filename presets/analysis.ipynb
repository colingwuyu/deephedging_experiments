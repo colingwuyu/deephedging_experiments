{
 "metadata": {
  "language_info": {
   "codemirror_mode": {
    "name": "ipython",
    "version": 3
   },
   "file_extension": ".py",
   "mimetype": "text/x-python",
   "name": "python",
   "nbconvert_exporter": "python",
   "pygments_lexer": "ipython3",
   "version": "3.8.8"
  },
  "orig_nbformat": 2,
  "kernelspec": {
   "name": "python388jvsc74a57bd09956e0b151f7cf89a552c1b2bf741e1981ff4a0970d02c2714c39252f762e035",
   "display_name": "Python 3.8.8 64-bit"
  }
 },
 "nbformat": 4,
 "nbformat_minor": 2,
 "cells": [
  {
   "cell_type": "code",
   "execution_count": 1,
   "metadata": {},
   "outputs": [],
   "source": [
    "import numpy as np\n",
    "import pandas as pd"
   ]
  },
  {
   "cell_type": "code",
   "execution_count": null,
   "metadata": {},
   "outputs": [],
   "source": [
    "logs_file = {\n",
    "    \"bsm\": 'bsagent/single_bs/logs/Greek-Delta/performance/logs.csv',\n",
    "    \"bsm-mi-sa\": 'bsagent/single_bs/logs/Greek-Delta-MI/performance/logs.csv',\n",
    "    \"var-rl1-sa\": 'var/sa/logs/RL1/performance/logs.csv',\n",
    "    \"var-ma1\": 'var/ma1/logs/RL1/performance/logs.csv',\n",
    "    \"var-ma2\": 'var/ma2/logs/RL2/performance/logs.csv',\n",
    "    \"var-ma3\": 'var/ma3/logs/RL2/performance/logs.csv',\n",
    "    \"mean-var-rl1-sa\": 'mean_var/sa/logs/RL1/performance/logs.csv',\n",
    "    \"mean-var-ma1\": 'mean_var/ma1/logs/RL1/performance/logs.csv',\n",
    "    \"mean-var-ma2\": 'mean_var/ma2/logs/RL2/performance/logs.csv',\n",
    "    \"mean-var-ma3\": 'mean_var/ma3/logs/RL2/performance/logs.csv',\n",
    "}\n",
    "\n",
    "perfs = {}\n",
    "for n, f in logs_file.items():\n",
    "  perfs[n] = pd.read_csv(f)"
   ]
  },
  {
   "cell_type": "code",
   "execution_count": null,
   "metadata": {},
   "outputs": [],
   "source": [
    "all_pnl_list = {}\n",
    "for n, perf in perfs.items():\n",
    "  all_pnl_list[n] = perf[perf.type=='pnl'].drop(['path_num','type'], axis=1).sum(axis=1)\n",
    "index_order = np.argsort(all_pnl_list[hedging_strategy])\n",
    "# pnl_order = math.floor(all_pnl_list[hedging_strategy].shape[0]*(100-VaR)/100)\n",
    "path_num = index_order.iloc[pnl_order]\n",
    "print(path_num)\n",
    "\n",
    "hedging_price = perfs[price_from][(perfs[price_from].path_num==path_num)&(perfs[price_from].type.str.contains(\"hedging_price\"))].drop(['path_num','type'], axis=1)\n",
    "derivative_price = perfs[price_from][(perfs[price_from].path_num==path_num)&(perfs[price_from].type.str.contains(\"derivative_price\"))].drop(['path_num','type'], axis=1)\n",
    "\n",
    "action_list = {}\n",
    "holding_list = {}\n",
    "pnl_list = {}\n",
    "for n, perf in perfs.items():\n",
    "  action_list[n + \" action\"] = perf[(perf.path_num==path_num)&(perf.type.str.contains(\"action\"))].drop(['path_num','type'], axis=1)\n",
    "  holding_list[n + \" holding\"] = perf[(perf.path_num==path_num)&(perf.type.str.contains(\"holding\"))].drop(['path_num','type'], axis=1)\n",
    "  pnl_list[n + \" acc. pnl\"] = perf[(perf.path_num==path_num)&(perf.type=='pnl')].drop(['path_num','type'], axis=1)\n",
    "\n",
    "hedging_price.columns = hedging_price.columns.astype(int) \n",
    "hedging_price = hedging_price.reindex(sorted(hedging_price.columns), axis=1).values\n",
    "derivative_price.columns = derivative_price.columns.astype(int) \n",
    "derivative_price = derivative_price.reindex(sorted(derivative_price.columns), axis=1).values\n",
    "for k in pnl_list.keys():\n",
    "  pnl_list[k].columns = pnl_list[k].columns.astype(int)\n",
    "  pnl_list[k] = pnl_list[k].reindex(sorted(pnl_list[k].columns), axis=1).values[0]\n",
    "for k in action_list.keys():\n",
    "  action_list[k].columns = action_list[k].columns.astype(int) \n",
    "  action_list[k] = action_list[k].reindex(sorted(action_list[k].columns), axis=1).values\n",
    "for k in holding_list.keys():\n",
    "  holding_list[k].columns = holding_list[k].columns.astype(int) \n",
    "  holding_list[k] = holding_list[k].reindex(sorted(holding_list[k].columns), axis=1).values"
   ]
  }
 ]
}